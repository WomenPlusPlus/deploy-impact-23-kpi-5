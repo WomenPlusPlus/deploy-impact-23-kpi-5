{
 "cells": [
  {
   "cell_type": "code",
   "execution_count": 1,
   "id": "4f988e54-b9cf-4dc1-bc89-cf8eaa0bb611",
   "metadata": {},
   "outputs": [],
   "source": [
    "import pygwalker as pyg\n",
    "import pandas as pd\n",
    "from pathlib import Path"
   ]
  },
  {
   "cell_type": "code",
   "execution_count": 3,
   "id": "1007f1bb-4fa7-44e7-9082-85f13f76ce45",
   "metadata": {},
   "outputs": [],
   "source": [
    "path = Path(str(Path().resolve().parent), \"data\", \"pj_sample_value.csv\")"
   ]
  },
  {
   "cell_type": "code",
   "execution_count": 4,
   "id": "1f8e0626-4695-418d-8d28-f2364c585c81",
   "metadata": {},
   "outputs": [],
   "source": [
    "df = pd.read_csv(path)"
   ]
  },
  {
   "cell_type": "code",
   "execution_count": 5,
   "id": "956896e0-2af3-4d49-b933-8d145fec6751",
   "metadata": {},
   "outputs": [
    {
     "data": {
      "text/html": [
       "<div>\n",
       "<style scoped>\n",
       "    .dataframe tbody tr th:only-of-type {\n",
       "        vertical-align: middle;\n",
       "    }\n",
       "\n",
       "    .dataframe tbody tr th {\n",
       "        vertical-align: top;\n",
       "    }\n",
       "\n",
       "    .dataframe thead th {\n",
       "        text-align: right;\n",
       "    }\n",
       "</style>\n",
       "<table border=\"1\" class=\"dataframe\">\n",
       "  <thead>\n",
       "    <tr style=\"text-align: right;\">\n",
       "      <th></th>\n",
       "      <th>circle</th>\n",
       "      <th>kpi</th>\n",
       "      <th>periodicity</th>\n",
       "      <th>range</th>\n",
       "      <th>period_year</th>\n",
       "      <th>period_month</th>\n",
       "      <th>value</th>\n",
       "    </tr>\n",
       "  </thead>\n",
       "  <tbody>\n",
       "    <tr>\n",
       "      <th>0</th>\n",
       "      <td>HR</td>\n",
       "      <td>share of teams constituted as circles</td>\n",
       "      <td>month</td>\n",
       "      <td>0 &lt;= % &lt;= 100</td>\n",
       "      <td>2023</td>\n",
       "      <td>1</td>\n",
       "      <td>35.0</td>\n",
       "    </tr>\n",
       "    <tr>\n",
       "      <th>1</th>\n",
       "      <td>HR</td>\n",
       "      <td>share of teams constituted as circles</td>\n",
       "      <td>month</td>\n",
       "      <td>0 &lt;= % &lt;= 100</td>\n",
       "      <td>2023</td>\n",
       "      <td>2</td>\n",
       "      <td>50.0</td>\n",
       "    </tr>\n",
       "    <tr>\n",
       "      <th>2</th>\n",
       "      <td>HR</td>\n",
       "      <td>share of teams constituted as circles</td>\n",
       "      <td>month</td>\n",
       "      <td>0 &lt;= % &lt;= 100</td>\n",
       "      <td>2023</td>\n",
       "      <td>3</td>\n",
       "      <td>50.0</td>\n",
       "    </tr>\n",
       "    <tr>\n",
       "      <th>3</th>\n",
       "      <td>HR</td>\n",
       "      <td>share of teams constituted as circles</td>\n",
       "      <td>month</td>\n",
       "      <td>0 &lt;= % &lt;= 100</td>\n",
       "      <td>2023</td>\n",
       "      <td>4</td>\n",
       "      <td>55.0</td>\n",
       "    </tr>\n",
       "    <tr>\n",
       "      <th>4</th>\n",
       "      <td>HR</td>\n",
       "      <td>share of teams constituted as circles</td>\n",
       "      <td>month</td>\n",
       "      <td>0 &lt;= % &lt;= 100</td>\n",
       "      <td>2023</td>\n",
       "      <td>5</td>\n",
       "      <td>70.0</td>\n",
       "    </tr>\n",
       "    <tr>\n",
       "      <th>...</th>\n",
       "      <td>...</td>\n",
       "      <td>...</td>\n",
       "      <td>...</td>\n",
       "      <td>...</td>\n",
       "      <td>...</td>\n",
       "      <td>...</td>\n",
       "      <td>...</td>\n",
       "    </tr>\n",
       "    <tr>\n",
       "      <th>80</th>\n",
       "      <td>Digital</td>\n",
       "      <td>additional monetization/savings from CRM</td>\n",
       "      <td>quarter</td>\n",
       "      <td>0 &lt;= X</td>\n",
       "      <td>2023</td>\n",
       "      <td>12</td>\n",
       "      <td>NaN</td>\n",
       "    </tr>\n",
       "    <tr>\n",
       "      <th>81</th>\n",
       "      <td>Programs</td>\n",
       "      <td>additional monetization/savings from programs</td>\n",
       "      <td>quarter</td>\n",
       "      <td>0 &lt;= X</td>\n",
       "      <td>2023</td>\n",
       "      <td>3</td>\n",
       "      <td>186258.0</td>\n",
       "    </tr>\n",
       "    <tr>\n",
       "      <th>82</th>\n",
       "      <td>Programs</td>\n",
       "      <td>additional monetization/savings from programs</td>\n",
       "      <td>quarter</td>\n",
       "      <td>0 &lt;= X</td>\n",
       "      <td>2023</td>\n",
       "      <td>6</td>\n",
       "      <td>0.0</td>\n",
       "    </tr>\n",
       "    <tr>\n",
       "      <th>83</th>\n",
       "      <td>Programs</td>\n",
       "      <td>additional monetization/savings from programs</td>\n",
       "      <td>quarter</td>\n",
       "      <td>0 &lt;= X</td>\n",
       "      <td>2023</td>\n",
       "      <td>9</td>\n",
       "      <td>26000.0</td>\n",
       "    </tr>\n",
       "    <tr>\n",
       "      <th>84</th>\n",
       "      <td>Programs</td>\n",
       "      <td>additional monetization/savings from programs</td>\n",
       "      <td>quarter</td>\n",
       "      <td>0 &lt;= X</td>\n",
       "      <td>2023</td>\n",
       "      <td>12</td>\n",
       "      <td>NaN</td>\n",
       "    </tr>\n",
       "  </tbody>\n",
       "</table>\n",
       "<p>85 rows × 7 columns</p>\n",
       "</div>"
      ],
      "text/plain": [
       "      circle                                            kpi periodicity  \\\n",
       "0         HR          share of teams constituted as circles       month   \n",
       "1         HR          share of teams constituted as circles       month   \n",
       "2         HR          share of teams constituted as circles       month   \n",
       "3         HR          share of teams constituted as circles       month   \n",
       "4         HR          share of teams constituted as circles       month   \n",
       "..       ...                                            ...         ...   \n",
       "80   Digital       additional monetization/savings from CRM     quarter   \n",
       "81  Programs  additional monetization/savings from programs     quarter   \n",
       "82  Programs  additional monetization/savings from programs     quarter   \n",
       "83  Programs  additional monetization/savings from programs     quarter   \n",
       "84  Programs  additional monetization/savings from programs     quarter   \n",
       "\n",
       "            range  period_year  period_month     value  \n",
       "0   0 <= % <= 100         2023             1      35.0  \n",
       "1   0 <= % <= 100         2023             2      50.0  \n",
       "2   0 <= % <= 100         2023             3      50.0  \n",
       "3   0 <= % <= 100         2023             4      55.0  \n",
       "4   0 <= % <= 100         2023             5      70.0  \n",
       "..            ...          ...           ...       ...  \n",
       "80         0 <= X         2023            12       NaN  \n",
       "81         0 <= X         2023             3  186258.0  \n",
       "82         0 <= X         2023             6       0.0  \n",
       "83         0 <= X         2023             9   26000.0  \n",
       "84         0 <= X         2023            12       NaN  \n",
       "\n",
       "[85 rows x 7 columns]"
      ]
     },
     "execution_count": 5,
     "metadata": {},
     "output_type": "execute_result"
    }
   ],
   "source": [
    "df"
   ]
  },
  {
   "cell_type": "markdown",
   "id": "128476d9-92e5-46df-a889-418be53249fd",
   "metadata": {},
   "source": [
    "### Analysing the given data"
   ]
  },
  {
   "cell_type": "markdown",
   "id": "cc09197a-9419-427a-b389-850693935de9",
   "metadata": {},
   "source": [
    "Checking the mean of the KPIs to see which KPIs (similar values) can be plotted together"
   ]
  },
  {
   "cell_type": "code",
   "execution_count": 21,
   "id": "541ec6c6-d9b7-4e1a-aada-fae91fcac5bb",
   "metadata": {},
   "outputs": [],
   "source": [
    "kpis = df[\"kpi\"].unique()\n",
    "avg = [df.loc[df[\"kpi\"] == kpi][\"value\"].mean() for kpi in kpis]\n",
    "kpi_avg = {kpis[i]: avg[i] for i in range(len(kpis))}"
   ]
  },
  {
   "cell_type": "code",
   "execution_count": 22,
   "id": "2a96eb5e-dfc8-458e-9e24-69a903f618d8",
   "metadata": {},
   "outputs": [
    {
     "name": "stdout",
     "output_type": "stream",
     "text": [
      "{'share of teams constituted as circles': 64.375, 'share short tern leave': 2.2249999999999996, 'involuntary headcount change (FTE)': 0.9612499999999999, 'reachability': 44.833333333333336, 'count sessions on .projuventute.ch': 178822.875, 'count leads': 550.5, 'net promoter score': 35.0, 'private donations': 1540370.125, 'additional monetization/savings from CRM': 17000.0, 'additional monetization/savings from programs': 70752.66666666667}\n"
     ]
    }
   ],
   "source": [
    "print(kpi_avg)"
   ]
  },
  {
   "cell_type": "markdown",
   "id": "193cc673-4bb2-4047-a331-a2015f5ad148",
   "metadata": {},
   "source": [
    "This shows that the relation of kpi:circles is m:1"
   ]
  },
  {
   "cell_type": "code",
   "execution_count": 34,
   "id": "49931028-8b7c-4d45-a1a3-a216fe266510",
   "metadata": {},
   "outputs": [
    {
     "name": "stdout",
     "output_type": "stream",
     "text": [
      "['HR']\n",
      "['HR']\n",
      "['HR']\n",
      "['Programs - Children - Counceling']\n",
      "['Programs - Parents -Online']\n",
      "['Programs - Parents -Online']\n",
      "['Programs - Parents -Online']\n",
      "['Fundraising']\n",
      "['Digital']\n",
      "['Programs']\n"
     ]
    }
   ],
   "source": [
    "for i in range(len(kpis)):\n",
    "    print(df.loc[df[\"kpi\"] == kpis[i]][\"circle\"].unique())"
   ]
  },
  {
   "cell_type": "code",
   "execution_count": 36,
   "id": "dc240b3c-5859-4ef3-813b-afee35a7c3d1",
   "metadata": {},
   "outputs": [
    {
     "data": {
      "application/vnd.jupyter.widget-view+json": {
       "model_id": "697a1aa07f034abb9da71dc123b68fc9",
       "version_major": 2,
       "version_minor": 0
      },
      "text/plain": [
       "Box(children=(HTML(value='<div id=\"ifr-pyg-2\" style=\"height: auto\">\\n    <head>\\n        <meta http-equiv=\"Con…"
      ]
     },
     "metadata": {},
     "output_type": "display_data"
    },
    {
     "data": {
      "text/html": [
       "<html>\n",
       "<style>\n",
       ".tabs{\n",
       "    position:relative;\n",
       "    height:660px;\n",
       "}\n",
       ".tab-pane{\n",
       "    display:inline-block;\n",
       "}\n",
       ".tabs input[type='radio']{\n",
       "    position:absolute;\n",
       "    clip:rect(0,0,0,0)\n",
       "}\n",
       ".tab-item{\n",
       "    display:block;\n",
       "    height:34px;\n",
       "    line-height:34px;\n",
       "    cursor:pointer;\n",
       "    padding:0 10px\n",
       "}\n",
       "\n",
       ".tabs input[type='radio']:checked+.tab-item{\n",
       "    background:#2563eb;\n",
       "    color:#fff\n",
       "}\n",
       "\n",
       ".tab-content{\n",
       "    display: none;\n",
       "    position:absolute;\n",
       "    left:0;\n",
       "    top:56px;\n",
       "    bottom:0;\n",
       "    right:0;\n",
       "}\n",
       "\n",
       ".tabs input[type='radio']:checked+.tab-item+.tab-content{\n",
       "    display: block;\n",
       "}\n",
       "</style>\n",
       "\n",
       "<body>\n",
       "    <div id=\"pygwalker-preview-2\">\n",
       "        <div class=\"tabs\">\n",
       "            \n",
       "        </div>\n",
       "    </div>\n",
       "</body>\n",
       "</html>"
      ],
      "text/plain": [
       "<IPython.core.display.HTML object>"
      ]
     },
     "metadata": {},
     "output_type": "display_data"
    },
    {
     "data": {
      "text/plain": [
       "<pygwalker.api.pygwalker.PygWalker at 0x7fcd5c631cd0>"
      ]
     },
     "execution_count": 36,
     "metadata": {},
     "output_type": "execute_result"
    }
   ],
   "source": [
    "pyg.walk(df)"
   ]
  },
  {
   "cell_type": "code",
   "execution_count": null,
   "id": "daa4570f-84d0-4f54-bc8b-d3090fcc664c",
   "metadata": {},
   "outputs": [],
   "source": []
  }
 ],
 "metadata": {
  "kernelspec": {
   "display_name": "Python 3",
   "language": "python",
   "name": "python3"
  },
  "language_info": {
   "codemirror_mode": {
    "name": "ipython",
    "version": 3
   },
   "file_extension": ".py",
   "mimetype": "text/x-python",
   "name": "python",
   "nbconvert_exporter": "python",
   "pygments_lexer": "ipython3",
   "version": "3.7.4"
  }
 },
 "nbformat": 4,
 "nbformat_minor": 5
}
